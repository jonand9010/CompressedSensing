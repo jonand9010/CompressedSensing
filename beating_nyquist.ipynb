{
 "cells": [
  {
   "cell_type": "code",
   "execution_count": null,
   "metadata": {},
   "outputs": [],
   "source": [
    "import numpy as np\n",
    "import matplotlib.pyplot as plt\n",
    "import seaborn as sns\n",
    "import os\n",
    "import sys\n",
    "from scipy.fftpack import dct, idct\n",
    "from scipy.optimize import minimize\n",
    "sns.set_theme()"
   ]
  },
  {
   "cell_type": "markdown",
   "metadata": {},
   "source": [
    "## Solve: \n",
    "$$\n",
    "\\hat{s} = \\text{argmin} ||s|| \n",
    "\\\\\n",
    "\\text{s.t.}\n",
    "\\\\\n",
    "\\begin{align*}\n",
    "y &= \\Theta s \\\\\n",
    "&= C \\Psi s\n",
    "\\end{align*}\n",
    "\n",
    "$$"
   ]
  },
  {
   "cell_type": "code",
   "execution_count": null,
   "metadata": {},
   "outputs": [],
   "source": [
    "def cosamp(sampling_matrix, sample_vector, s, epsilon=1e-10, max_iter=1000):\n",
    "    \"\"\"\n",
    "    Return an `s`-sparse approximation of the target signal\n",
    "    Input:\n",
    "        - sampling_matrix, sampling matrix Phi [n_samples x n_signal]\n",
    "        - sample_vector, noisy sample vector\n",
    "        - s, sparsity\n",
    "    \"\"\"\n",
    "    n_samples, n_signal = sampling_matrix.shape\n",
    "    best_signal_approx = np.zeros(sampling_matrix.shape[1])\n",
    "    reconstr_error = sample_vector.copy()\n",
    "    it = 0 # count\n",
    "    halt = False\n",
    "    while not halt:\n",
    "        it += 1\n",
    "        print(\"Iteration {}\\r\".format(it), end=\"\")\n",
    "        \n",
    "        transformed_signal = np.dot(np.transpose(sampling_matrix), reconstr_error) # reconstruct signal in cosine transformed coordinates \n",
    "        omega = np.argsort(transformed_signal)[-(2*s):] # get index of largest/most important components\n",
    "        omega = np.union1d(omega, best_signal_approx.nonzero()[0]) # use set instead?\n",
    "        sampling_matrixT = sampling_matrix[:, omega]\n",
    "        signal_approx = np.zeros(n_signal)  # initiate sparse approx\n",
    "        # Solve Least Square\n",
    "        signal_approx[omega], _, _, _ = np.linalg.lstsq(sampling_matrixT, sample_vector) #(solve x: sample_vector = sampling_matrixT @ x)\n",
    "        \n",
    "        # Get new estimate\n",
    "        signal_approx[np.argsort(signal_approx)[:-s]] = 0 # remove smallest entries\n",
    "        best_signal_approx = signal_approx.copy()\n",
    "        \n",
    "        # Halt criterion\n",
    "        reconstr_error_prev = reconstr_error.copy()\n",
    "        reconstr_error = sample_vector - np.dot(sampling_matrix, best_signal_approx)\n",
    "\n",
    "        halt = (np.linalg.norm(reconstr_error - reconstr_error_prev) < epsilon) or \\\n",
    "            np.linalg.norm(reconstr_error) < epsilon or \\\n",
    "            it > max_iter\n",
    "        \n",
    "    return best_signal_approx"
   ]
  },
  {
   "cell_type": "code",
   "execution_count": null,
   "metadata": {},
   "outputs": [],
   "source": [
    "np.random.seed(0)\n",
    "n = 4096\n",
    "t = np.linspace(0, 1, n)\n",
    "signal = np.cos(2 * 97 * np.pi * t) + np.cos(2 * 777 * np.pi * t)\n",
    "noise = np.random.normal(0, 0.5, len(t))\n",
    "x = signal + noise\n",
    "xt = np.fft.fft(x)\n",
    "PSD = xt * np.conj(xt) / n #Power spectral denstiy, ||xt||^2 / n"
   ]
  },
  {
   "cell_type": "code",
   "execution_count": null,
   "metadata": {},
   "outputs": [],
   "source": [
    "# Randomly sampled signal\n",
    "num_samples = 128 \n",
    "permutation = np.floor(np.random.rand(num_samples) * n).astype(int)\n",
    "compressed_signal = x[permutation]"
   ]
  },
  {
   "cell_type": "code",
   "execution_count": null,
   "metadata": {},
   "outputs": [],
   "source": [
    "# Solve compressed sensing problem\n",
    "Psi = dct(np.identity(n))\n",
    "Theta = Psi[permutation, :]\n",
    "\n",
    "s = cosamp(Theta, compressed_signal, 10, epsilon = 1.e-10, max_iter = 10)\n",
    "x_reconstructed = idct(s)\n",
    "xt_reconstructed = np.fft.fft(x_reconstructed, n)\n",
    "PSD_reconstructed = xt_reconstructed * np.conj(xt_reconstructed) / n"
   ]
  },
  {
   "cell_type": "code",
   "execution_count": null,
   "metadata": {},
   "outputs": [],
   "source": [
    "time_window = np.array([1024, 1280])/n\n",
    "freq = np.arange(n)\n",
    "L = int(np.floor(n/2))\n",
    "\n",
    "fig, ax = plt.subplots(2,2, figsize = (12, 8))\n",
    "ax = ax.reshape(-1)\n",
    "\n",
    "ax[0].plot(t, x, '.-', color = 'black', label = 'signal + noise')\n",
    "ax[0].plot(t, signal, 'm', linewidth = 2, label = 'true signal')\n",
    "ax[0].plot(permutation/n, compressed_signal, marker = 'o', color = 'r', ms = 12, linewidth = 0, label = 'compressed signal')\n",
    "ax[0].set_xlim(time_window[0], time_window[1]) \n",
    "ax[0].set_xlabel('Time [s]')\n",
    "ax[0].legend()\n",
    "\n",
    "ax[1].plot(freq[:L], PSD[:L].real, color = 'k')\n",
    "ax[1].set_xlim(0, 1024)\n",
    "ax[1].set_xlabel('Frequency [Hz]')\n",
    "\n",
    "ax[2].plot(t, signal, 'm', label = 'true signal')\n",
    "ax[2].plot(t, x_reconstructed, '.-', color = 'c')\n",
    "ax[2].set_xlim(time_window[0], time_window[1])\n",
    "ax[2].set_ylim(ax[0].get_ylim())\n",
    "ax[2].set_xlabel(ax[0].get_xlabel())\n",
    "ax[2].set_ylabel('Reconstructed signal')\n",
    "\n",
    "ax[3].plot(freq[:L], PSD_reconstructed[:L], color = 'c')\n",
    "ax[3].set_xlim(ax[1].get_xlim())\n",
    "ax[3].set_ylim(ax[1].get_ylim())\n",
    "ax[3].set_xlabel(ax[1].get_xlabel())\n",
    "ax[3].set_ylabel(ax[1].get_ylabel())"
   ]
  },
  {
   "cell_type": "code",
   "execution_count": null,
   "metadata": {},
   "outputs": [],
   "source": []
  }
 ],
 "metadata": {
  "interpreter": {
   "hash": "c3c678ff5679f29a9ade4381203932c6658e62a37e141129e4a3b75e3471cb49"
  },
  "kernelspec": {
   "display_name": "Python 3.7.8 64-bit ('base': conda)",
   "name": "python3"
  },
  "language_info": {
   "codemirror_mode": {
    "name": "ipython",
    "version": 3
   },
   "file_extension": ".py",
   "mimetype": "text/x-python",
   "name": "python",
   "nbconvert_exporter": "python",
   "pygments_lexer": "ipython3",
   "version": "3.7.8"
  },
  "orig_nbformat": 4
 },
 "nbformat": 4,
 "nbformat_minor": 2
}
